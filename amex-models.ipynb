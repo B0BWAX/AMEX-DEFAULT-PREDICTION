{
  "nbformat": 4,
  "nbformat_minor": 0,
  "metadata": {
    "colab": {
      "provenance": [],
      "gpuType": "T4",
      "mount_file_id": "1QUd-iYEY7KkrPtOukyIPwIqKRHqS7FzH",
      "authorship_tag": "ABX9TyMNPjFndBUasWPHAANRvzfg",
      "include_colab_link": true
    },
    "kernelspec": {
      "name": "python3",
      "display_name": "Python 3"
    },
    "language_info": {
      "name": "python"
    },
    "accelerator": "GPU"
  },
  "cells": [
    {
      "cell_type": "markdown",
      "metadata": {
        "id": "view-in-github",
        "colab_type": "text"
      },
      "source": [
        "<a href=\"https://colab.research.google.com/github/B0BWAX/AMEX-DEFAULT-PREDICTION/blob/main/amex-models.ipynb\" target=\"_parent\"><img src=\"https://colab.research.google.com/assets/colab-badge.svg\" alt=\"Open In Colab\"/></a>"
      ]
    },
    {
      "cell_type": "code",
      "execution_count": 1,
      "metadata": {
        "colab": {
          "base_uri": "https://localhost:8080/"
        },
        "id": "01BUynkA6IY9",
        "outputId": "d6b12af6-0b7f-48cd-a576-647004f98269"
      },
      "outputs": [
        {
          "output_type": "stream",
          "name": "stdout",
          "text": [
            "Drive already mounted at /content/drive; to attempt to forcibly remount, call drive.mount(\"/content/drive\", force_remount=True).\n"
          ]
        }
      ],
      "source": [
        "from google.colab import drive\n",
        "drive.mount('/content/drive')"
      ]
    },
    {
      "cell_type": "code",
      "source": [
        "!mkdir ~/.kaggle\n",
        "!cp /content/drive/MyDrive/API-KEYS/kaggle.json ~/.kaggle/\n",
        "!chmod 600 ~/.kaggle/kaggle.json"
      ],
      "metadata": {
        "colab": {
          "base_uri": "https://localhost:8080/"
        },
        "id": "9D_BBYCK6Jg0",
        "outputId": "43dbbdd7-02ac-4613-892b-0f2e19dd6c12"
      },
      "execution_count": 2,
      "outputs": [
        {
          "output_type": "stream",
          "name": "stdout",
          "text": [
            "mkdir: cannot create directory ‘/root/.kaggle’: File exists\n"
          ]
        }
      ]
    },
    {
      "cell_type": "code",
      "source": [
        "# downloading modified dataset from last notebook\n",
        "!kaggle datasets download -d bobwax/amex-agg-dataset\n",
        "!unzip amex-agg-dataset.zip"
      ],
      "metadata": {
        "colab": {
          "base_uri": "https://localhost:8080/"
        },
        "id": "7vkzpGiL8XnH",
        "outputId": "5ad13431-eeb6-4afc-ee50-d6ca0ed494a7"
      },
      "execution_count": 3,
      "outputs": [
        {
          "output_type": "stream",
          "name": "stdout",
          "text": [
            "amex-agg-dataset.zip: Skipping, found more recently modified local copy (use --force to force download)\n",
            "Archive:  amex-agg-dataset.zip\n",
            "replace amex_agg_data.csv? [y]es, [n]o, [A]ll, [N]one, [r]ename: "
          ]
        }
      ]
    },
    {
      "cell_type": "code",
      "source": [
        "# downloading GPU library\n",
        "!git clone https://github.com/rapidsai/rapidsai-csp-utils.git\n",
        "!python rapidsai-csp-utils/colab/pip-install.py"
      ],
      "metadata": {
        "colab": {
          "base_uri": "https://localhost:8080/"
        },
        "id": "8M23Q9Sd8o2E",
        "outputId": "7afa7e89-4427-4729-fd48-220c0f0cf9d2"
      },
      "execution_count": 4,
      "outputs": [
        {
          "output_type": "stream",
          "name": "stdout",
          "text": [
            "fatal: destination path 'rapidsai-csp-utils' already exists and is not an empty directory.\n",
            "Traceback (most recent call last):\n",
            "  File \"/content/rapidsai-csp-utils/colab/pip-install.py\", line 30, in <module>\n",
            "    if ('P' not in gpu_name):\n",
            "TypeError: a bytes-like object is required, not 'str'\n"
          ]
        }
      ]
    },
    {
      "cell_type": "code",
      "source": [
        "import cuml, cudf # GPU libiraries\n",
        "import pandas as pd, numpy as np # CPU libiraries\n",
        "import matplotlib.pyplot as plt\n",
        "import pickle"
      ],
      "metadata": {
        "id": "F5fwJu9rJ1XH"
      },
      "execution_count": 29,
      "outputs": []
    },
    {
      "cell_type": "code",
      "source": [
        "from cuml.model_selection import train_test_split"
      ],
      "metadata": {
        "id": "DItlTEzTPXmj"
      },
      "execution_count": 6,
      "outputs": []
    },
    {
      "cell_type": "code",
      "source": [
        "# importing data\n",
        "data = cudf.read_csv('/content/amex_agg_data.csv')"
      ],
      "metadata": {
        "id": "iycdq8Q2QTxZ"
      },
      "execution_count": 7,
      "outputs": []
    },
    {
      "cell_type": "code",
      "source": [
        "data.head()"
      ],
      "metadata": {
        "colab": {
          "base_uri": "https://localhost:8080/",
          "height": 256
        },
        "id": "r5Q-z1YnTHKg",
        "outputId": "29a454b4-3423-4e3a-f277-827de3259c5a"
      },
      "execution_count": 8,
      "outputs": [
        {
          "output_type": "execute_result",
          "data": {
            "text/plain": [
              "   P_2_mean   P_2_std   P_2_min   P_2_max  P_2_last  D_39_mean  D_39_std  \\\n",
              "0  0.933824  0.024194  0.868580  0.960384  0.934745   0.230769  0.832050   \n",
              "1  0.899820  0.022119  0.861109  0.929122  0.880519   7.153846  6.743468   \n",
              "2  0.878454  0.028911  0.797670  0.904482  0.880875   0.000000  0.000000   \n",
              "3  0.598969  0.020107  0.567442  0.623392  0.621776   1.538462  3.017046   \n",
              "4  0.891679  0.042325  0.805045  0.940382  0.871900   0.000000  0.000000   \n",
              "\n",
              "   D_39_min  D_39_max  D_39_last  ...  D_64_count  D_64_last  D_64_nunique  \\\n",
              "0         0         3          0  ...          13          0             1   \n",
              "1         0        19          6  ...          13          0             1   \n",
              "2         0         0          0  ...          13          2             1   \n",
              "3         0         9          0  ...          13          0             1   \n",
              "4         0         0          0  ...          13          0             1   \n",
              "\n",
              "   D_66_count  D_66_last  D_66_nunique  D_68_count  D_68_last  D_68_nunique  \\\n",
              "0          13         -1             1          13          6             1   \n",
              "1          13         -1             1          13          6             1   \n",
              "2          13         -1             1          13          6             1   \n",
              "3          13         -1             1          13          3             3   \n",
              "4          13          1             1          13          6             1   \n",
              "\n",
              "   target  \n",
              "0       0  \n",
              "1       0  \n",
              "2       0  \n",
              "3       0  \n",
              "4       0  \n",
              "\n",
              "[5 rows x 919 columns]"
            ],
            "text/html": [
              "<div>\n",
              "<style scoped>\n",
              "    .dataframe tbody tr th:only-of-type {\n",
              "        vertical-align: middle;\n",
              "    }\n",
              "\n",
              "    .dataframe tbody tr th {\n",
              "        vertical-align: top;\n",
              "    }\n",
              "\n",
              "    .dataframe thead th {\n",
              "        text-align: right;\n",
              "    }\n",
              "</style>\n",
              "<table border=\"1\" class=\"dataframe\">\n",
              "  <thead>\n",
              "    <tr style=\"text-align: right;\">\n",
              "      <th></th>\n",
              "      <th>P_2_mean</th>\n",
              "      <th>P_2_std</th>\n",
              "      <th>P_2_min</th>\n",
              "      <th>P_2_max</th>\n",
              "      <th>P_2_last</th>\n",
              "      <th>D_39_mean</th>\n",
              "      <th>D_39_std</th>\n",
              "      <th>D_39_min</th>\n",
              "      <th>D_39_max</th>\n",
              "      <th>D_39_last</th>\n",
              "      <th>...</th>\n",
              "      <th>D_64_count</th>\n",
              "      <th>D_64_last</th>\n",
              "      <th>D_64_nunique</th>\n",
              "      <th>D_66_count</th>\n",
              "      <th>D_66_last</th>\n",
              "      <th>D_66_nunique</th>\n",
              "      <th>D_68_count</th>\n",
              "      <th>D_68_last</th>\n",
              "      <th>D_68_nunique</th>\n",
              "      <th>target</th>\n",
              "    </tr>\n",
              "  </thead>\n",
              "  <tbody>\n",
              "    <tr>\n",
              "      <th>0</th>\n",
              "      <td>0.933824</td>\n",
              "      <td>0.024194</td>\n",
              "      <td>0.868580</td>\n",
              "      <td>0.960384</td>\n",
              "      <td>0.934745</td>\n",
              "      <td>0.230769</td>\n",
              "      <td>0.832050</td>\n",
              "      <td>0</td>\n",
              "      <td>3</td>\n",
              "      <td>0</td>\n",
              "      <td>...</td>\n",
              "      <td>13</td>\n",
              "      <td>0</td>\n",
              "      <td>1</td>\n",
              "      <td>13</td>\n",
              "      <td>-1</td>\n",
              "      <td>1</td>\n",
              "      <td>13</td>\n",
              "      <td>6</td>\n",
              "      <td>1</td>\n",
              "      <td>0</td>\n",
              "    </tr>\n",
              "    <tr>\n",
              "      <th>1</th>\n",
              "      <td>0.899820</td>\n",
              "      <td>0.022119</td>\n",
              "      <td>0.861109</td>\n",
              "      <td>0.929122</td>\n",
              "      <td>0.880519</td>\n",
              "      <td>7.153846</td>\n",
              "      <td>6.743468</td>\n",
              "      <td>0</td>\n",
              "      <td>19</td>\n",
              "      <td>6</td>\n",
              "      <td>...</td>\n",
              "      <td>13</td>\n",
              "      <td>0</td>\n",
              "      <td>1</td>\n",
              "      <td>13</td>\n",
              "      <td>-1</td>\n",
              "      <td>1</td>\n",
              "      <td>13</td>\n",
              "      <td>6</td>\n",
              "      <td>1</td>\n",
              "      <td>0</td>\n",
              "    </tr>\n",
              "    <tr>\n",
              "      <th>2</th>\n",
              "      <td>0.878454</td>\n",
              "      <td>0.028911</td>\n",
              "      <td>0.797670</td>\n",
              "      <td>0.904482</td>\n",
              "      <td>0.880875</td>\n",
              "      <td>0.000000</td>\n",
              "      <td>0.000000</td>\n",
              "      <td>0</td>\n",
              "      <td>0</td>\n",
              "      <td>0</td>\n",
              "      <td>...</td>\n",
              "      <td>13</td>\n",
              "      <td>2</td>\n",
              "      <td>1</td>\n",
              "      <td>13</td>\n",
              "      <td>-1</td>\n",
              "      <td>1</td>\n",
              "      <td>13</td>\n",
              "      <td>6</td>\n",
              "      <td>1</td>\n",
              "      <td>0</td>\n",
              "    </tr>\n",
              "    <tr>\n",
              "      <th>3</th>\n",
              "      <td>0.598969</td>\n",
              "      <td>0.020107</td>\n",
              "      <td>0.567442</td>\n",
              "      <td>0.623392</td>\n",
              "      <td>0.621776</td>\n",
              "      <td>1.538462</td>\n",
              "      <td>3.017046</td>\n",
              "      <td>0</td>\n",
              "      <td>9</td>\n",
              "      <td>0</td>\n",
              "      <td>...</td>\n",
              "      <td>13</td>\n",
              "      <td>0</td>\n",
              "      <td>1</td>\n",
              "      <td>13</td>\n",
              "      <td>-1</td>\n",
              "      <td>1</td>\n",
              "      <td>13</td>\n",
              "      <td>3</td>\n",
              "      <td>3</td>\n",
              "      <td>0</td>\n",
              "    </tr>\n",
              "    <tr>\n",
              "      <th>4</th>\n",
              "      <td>0.891679</td>\n",
              "      <td>0.042325</td>\n",
              "      <td>0.805045</td>\n",
              "      <td>0.940382</td>\n",
              "      <td>0.871900</td>\n",
              "      <td>0.000000</td>\n",
              "      <td>0.000000</td>\n",
              "      <td>0</td>\n",
              "      <td>0</td>\n",
              "      <td>0</td>\n",
              "      <td>...</td>\n",
              "      <td>13</td>\n",
              "      <td>0</td>\n",
              "      <td>1</td>\n",
              "      <td>13</td>\n",
              "      <td>1</td>\n",
              "      <td>1</td>\n",
              "      <td>13</td>\n",
              "      <td>6</td>\n",
              "      <td>1</td>\n",
              "      <td>0</td>\n",
              "    </tr>\n",
              "  </tbody>\n",
              "</table>\n",
              "<p>5 rows × 919 columns</p>\n",
              "</div>"
            ]
          },
          "metadata": {},
          "execution_count": 8
        }
      ]
    },
    {
      "cell_type": "code",
      "source": [
        "# splitting data\n",
        "X = data.drop(columns=['target'])\n",
        "y = data['target']\n",
        "del data\n",
        "X_train, X_test, y_train, y_test = train_test_split(X, y, test_size=0.3, random_state=42)"
      ],
      "metadata": {
        "id": "rWZUaEdgQt-q"
      },
      "execution_count": 9,
      "outputs": []
    },
    {
      "cell_type": "markdown",
      "source": [
        "## Metric\n",
        "\n",
        "The metric used to compare between models will be the competition metric which is:\n",
        "\n",
        ">The evaluation metric, M, for this competition is the mean of two measures of rank ordering: Normalized Gini Coefficient, $G$, and default rate captured at 4%, $D$.\n",
        ">$$M=0.5⋅(G+D)$$\n",
        ">The default rate captured at 4% is the percentage of the positive labels (defaults) captured within the highest-ranked 4% of the predictions, and represents a Sensitivity/Recall statistic.\n",
        ">For both of the sub-metrics $G$ and $D$ , the negative labels are given a weight of 20 to adjust for downsampling.\n",
        ">This metric has a maximum value of 1.0."
      ],
      "metadata": {
        "id": "ullF-UrZP228"
      }
    },
    {
      "cell_type": "code",
      "source": [
        "def amex_metric_mod(y_true, y_pred):\n",
        "\n",
        "    labels     = np.transpose(np.array([y_true, y_pred]))\n",
        "    labels     = labels[labels[:, 1].argsort()[::-1]]\n",
        "    weights    = np.where(labels[:,0]==0, 20, 1)\n",
        "    cut_vals   = labels[np.cumsum(weights) <= int(0.04 * np.sum(weights))]\n",
        "    top_four   = np.sum(cut_vals[:,0]) / np.sum(labels[:,0])\n",
        "\n",
        "    gini = [0,0]\n",
        "    for i in [1,0]:\n",
        "        labels         = np.transpose(np.array([y_true, y_pred]))\n",
        "        labels         = labels[labels[:, i].argsort()[::-1]]\n",
        "        weight         = np.where(labels[:,0]==0, 20, 1)\n",
        "        weight_random  = np.cumsum(weight / np.sum(weight))\n",
        "        total_pos      = np.sum(labels[:, 0] *  weight)\n",
        "        cum_pos_found  = np.cumsum(labels[:, 0] * weight)\n",
        "        lorentz        = cum_pos_found / total_pos\n",
        "        gini[i]        = np.sum((lorentz - weight_random) * weight)\n",
        "\n",
        "    return 0.5 * (gini[1]/gini[0] + top_four)"
      ],
      "metadata": {
        "id": "D4dqoHUgP2UV"
      },
      "execution_count": 26,
      "outputs": []
    },
    {
      "cell_type": "markdown",
      "source": [
        "*This metric is very similar to ROC AUC score\n",
        "\n",
        "*Accuracy score also computed but it's important to note that accuracy alone is not a good evaluation metric in this case."
      ],
      "metadata": {
        "id": "c0JEv1HtmRAY"
      }
    },
    {
      "cell_type": "markdown",
      "source": [
        "## Random Forest Algorithm"
      ],
      "metadata": {
        "id": "SV_HAog7MbRL"
      }
    },
    {
      "cell_type": "code",
      "source": [
        "from cuml import RandomForestClassifier"
      ],
      "metadata": {
        "id": "i14u9djjMWag"
      },
      "execution_count": 12,
      "outputs": []
    },
    {
      "cell_type": "code",
      "source": [
        "rf_model = RandomForestClassifier( max_depth=10,\n",
        "              n_estimators=100,\n",
        "              random_state=0)"
      ],
      "metadata": {
        "colab": {
          "base_uri": "https://localhost:8080/"
        },
        "id": "e-ZALAjccWNB",
        "outputId": "0b431667-ae11-4873-ab44-6fda3773a7ed"
      },
      "execution_count": 13,
      "outputs": [
        {
          "output_type": "stream",
          "name": "stderr",
          "text": [
            "/usr/local/lib/python3.10/dist-packages/cuml/internals/api_decorators.py:344: UserWarning: For reproducible results in Random Forest Classifier or for almost reproducible results in Random Forest Regressor, n_streams=1 is recommended. If n_streams is > 1, results may vary due to stream/thread timing differences, even when random_state is set\n",
            "  return func(**kwargs)\n"
          ]
        }
      ]
    },
    {
      "cell_type": "code",
      "source": [
        "trained_RF = rf_model.fit(X_train, y_train)"
      ],
      "metadata": {
        "colab": {
          "base_uri": "https://localhost:8080/"
        },
        "id": "XDOZu-QKPRD_",
        "outputId": "80f84029-6807-4a5b-9be1-bbd578c8c23c"
      },
      "execution_count": 14,
      "outputs": [
        {
          "output_type": "stream",
          "name": "stderr",
          "text": [
            "/usr/local/lib/python3.10/dist-packages/cuml/internals/api_decorators.py:188: UserWarning: To use pickling first train using float32 data to fit the estimator\n",
            "  ret = func(*args, **kwargs)\n"
          ]
        }
      ]
    },
    {
      "cell_type": "code",
      "source": [
        "predictions = rf_model.predict(X_test)"
      ],
      "metadata": {
        "id": "qQW-2beVdVlo"
      },
      "execution_count": 15,
      "outputs": []
    },
    {
      "cell_type": "code",
      "source": [
        "rf_comp = amex_metric_mod( y_test.to_numpy(), predictions.to_numpy())\n",
        "rf_accuracy = cuml.metrics.accuracy_score(y_test, predictions)\n",
        "print(f\" Random Forest Scores \\n ------------------------------------- \\n Accuracy: {rf_accuracy} \\n Competition Metric: {rf_comp}\")"
      ],
      "metadata": {
        "colab": {
          "base_uri": "https://localhost:8080/"
        },
        "id": "pWOjykNNd79p",
        "outputId": "bbb6531a-edc4-4db8-d3f8-c5514d1d6953"
      },
      "execution_count": 32,
      "outputs": [
        {
          "output_type": "stream",
          "name": "stdout",
          "text": [
            " Random Forest Scores \n",
            " ------------------------------------- \n",
            " Accuracy: 0.8906394243240356 \n",
            " Competition Metric: 0.541701129757983\n"
          ]
        }
      ]
    },
    {
      "cell_type": "code",
      "source": [],
      "metadata": {
        "id": "cBEYsnCjmO5z"
      },
      "execution_count": null,
      "outputs": []
    },
    {
      "cell_type": "markdown",
      "source": [],
      "metadata": {
        "id": "Wl209_vzeQSL"
      }
    }
  ]
}